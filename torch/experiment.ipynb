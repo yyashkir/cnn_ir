{
 "cells": [
  {
   "cell_type": "code",
   "execution_count": 1,
   "metadata": {},
   "outputs": [],
   "source": [
    "import numpy as np\n",
    "yield_data = np.genfromtxt ('../gbp_noheader.in', delimiter=\"\\t\", dtype=None, encoding=\"utf8\")"
   ]
  },
  {
   "cell_type": "code",
   "execution_count": 183,
   "metadata": {},
   "outputs": [
    {
     "name": "stdout",
     "output_type": "stream",
     "text": [
      "[[[0.0581094 0.0583031 0.0591828 0.0591156 0.0590531 0.0584922 0.0579141]\n",
      "  [0.060975  0.06      0.0593813 0.05915   0.0590328 0.05835   0.057625 ]\n",
      "  [0.0557125 0.0579375 0.0589375 0.05875   0.0584922 0.0575125 0.0567969]\n",
      "  [0.0537813 0.0570625 0.0586859 0.0584969 0.0582156 0.0572305 0.0563438]\n",
      "  [0.055     0.0572875 0.0585672 0.0582813 0.0580016 0.0569469 0.0562063]\n",
      "  [0.0534344 0.0575    0.058625  0.05835   0.0580531 0.0569594 0.0562063]\n",
      "  [0.055     0.0584172 0.0588063 0.0584922 0.0582406 0.0572625 0.0564703]\n",
      "  [0.06      0.059825  0.0589375 0.058575  0.058275  0.0573125 0.0565453]\n",
      "  [0.0612188 0.0606688 0.05995   0.0592625 0.0588375 0.057725  0.0568563]\n",
      "  [0.06      0.059875  0.059925  0.059225  0.0587563 0.057675  0.0568313]\n",
      "  [0.0609844 0.0606063 0.06      0.0592375 0.0587438 0.0576    0.0566719]\n",
      "  [0.0587625 0.0593469 0.0595984 0.0592125 0.0587188 0.0577016 0.0568219]\n",
      "  [0.0628    0.06      0.0595    0.0590703 0.0586172 0.057575  0.0566578]\n",
      "  [0.0667313 0.0622219 0.0597359 0.0590781 0.0586188 0.0575    0.0564578]]]\n"
     ]
    }
   ],
   "source": [
    "tr = yield_data[:3990]\n",
    "tr.shape\n",
    "\n",
    "cu = tr.reshape(int(4000/14), 1, 14, 7) # second dimension is because it expects things like RGB (3)\n",
    "#int(4000/14)*14\n",
    "cu.shape\n",
    "\n",
    "#print(tr[:14,:])\n",
    "\n",
    "print(cu[0])\n",
    "\n",
    "train_x = cu[:,:,:-1,:]\n",
    "train_y = cu[:,:,-1:,:].reshape(285,7)\n",
    "\n",
    "val = yield_data[-658:].reshape(int(659/14), 1, 14, 7)\n",
    "val_x = val[:,:,:-1,:]\n",
    "val_y = val[:,:,-1:,:].reshape(47,7)\n",
    "\n",
    "#print(train_y[0])"
   ]
  },
  {
   "cell_type": "code",
   "execution_count": 65,
   "metadata": {},
   "outputs": [],
   "source": [
    "tr = yield_data[:4000]\n",
    "train_x = tr[::2]\n",
    "train_y = tr[1::2]\n",
    "val = yield_data[4000:-1]\n",
    "val_x = val[::2]\n",
    "val_y = val[1::2]"
   ]
  },
  {
   "cell_type": "code",
   "execution_count": 109,
   "metadata": {},
   "outputs": [],
   "source": [
    "import torch\n",
    "\n",
    "dtype = torch.float\n",
    "device = torch.device(\"cpu\")"
   ]
  },
  {
   "cell_type": "code",
   "execution_count": 67,
   "metadata": {},
   "outputs": [],
   "source": [
    "N, D_in, H, D_out = 2000, 7, 14, 7"
   ]
  },
  {
   "cell_type": "code",
   "execution_count": 184,
   "metadata": {},
   "outputs": [],
   "source": [
    "x = torch.from_numpy(train_x).float()\n",
    "y = torch.from_numpy(train_y).float()\n",
    "\n",
    "xval = torch.from_numpy(val_x).float()\n",
    "yval = torch.from_numpy(val_y).float()"
   ]
  },
  {
   "cell_type": "code",
   "execution_count": 185,
   "metadata": {},
   "outputs": [
    {
     "name": "stdout",
     "output_type": "stream",
     "text": [
      "ConvNet(\n",
      "  (conv1): Conv2d(1, 2, kernel_size=(2, 2), stride=(1, 1))\n",
      "  (fc1): Linear(in_features=144, out_features=7, bias=True)\n",
      ")\n"
     ]
    }
   ],
   "source": [
    "class ConvNet(nn.Module):\n",
    "    def __init__(self):\n",
    "        super(ConvNet, self).__init__()\n",
    "        \n",
    "        self.conv1 = nn.Conv2d(1, out_channels=2, kernel_size=2, stride=1)\n",
    "        self.fc1 = nn.Linear(2*6*12, 7)\n",
    "\n",
    "    def forward(self, x):\n",
    "        x = self.conv1(x)\n",
    "        x = torch.sigmoid(x)\n",
    "        x = x.view(-1, 2*6*12)\n",
    "        x = self.fc1(x)\n",
    "        x = torch.sigmoid(x)\n",
    "        return x\n",
    "\n",
    "\n",
    "\n",
    "model_conv = ConvNet()\n",
    "\n",
    "learning_rate = 1e-2\n",
    "optimizer = torch.optim.SGD(model_conv.parameters(), lr=learning_rate, momentum=0.9)\n",
    "lossMSE = torch.nn.MSELoss()\n",
    "\n",
    "print(model_conv)"
   ]
  },
  {
   "cell_type": "code",
   "execution_count": 69,
   "metadata": {},
   "outputs": [],
   "source": [
    "modelf = torch.nn.Sequential(\n",
    "    torch.nn.Linear(7, 20),\n",
    "    torch.nn.Sigmoid(),\n",
    "    torch.nn.Linear(20, 7),\n",
    "    torch.nn.Sigmoid()\n",
    ")\n",
    "#print(modelf)\n",
    "learning_rate = 1e-2\n",
    "optimizer = torch.optim.SGD(modelf.parameters(), lr=learning_rate, momentum=0.9)\n",
    "lossMSE = torch.nn.MSELoss()"
   ]
  },
  {
   "cell_type": "code",
   "execution_count": 176,
   "metadata": {},
   "outputs": [
    {
     "name": "stderr",
     "output_type": "stream",
     "text": [
      "/Users/dyashkir/anaconda3/lib/python3.6/site-packages/torch/nn/functional.py:1006: UserWarning: nn.functional.sigmoid is deprecated. Use torch.sigmoid instead.\n",
      "  warnings.warn(\"nn.functional.sigmoid is deprecated. Use torch.sigmoid instead.\")\n"
     ]
    }
   ],
   "source": [
    "train_res = []\n",
    "for t in range(500):\n",
    "    optimizer.zero_grad()\n",
    "    net_out = model_conv(x)\n",
    "    loss = lossMSE(net_out, y)\n",
    "    loss.backward()\n",
    "    optimizer.step()\n",
    "    \n",
    "    #print(t, loss.data[0].item())\n",
    "    \n",
    "    val_pred = modelf(xval)\n",
    "    val_loss = lossMSE(val_pred, yval)\n",
    "    \n",
    "    train_res.append([t,loss.item(), val_loss.item()])\n",
    "\n"
   ]
  },
  {
   "cell_type": "code",
   "execution_count": 177,
   "metadata": {},
   "outputs": [
    {
     "data": {
      "image/png": "[encoded data removed]",
      "text/plain": [
       "<Figure size 432x288 with 1 Axes>"
      ]
     },
     "metadata": {},
     "output_type": "display_data"
    }
   ],
   "source": [
    "\n",
    "import matplotlib.pyplot as plt\n",
    "xs = [x[0] for x in train_res]\n",
    "ys = [x[1] for x in train_res]\n",
    "val = [x[2] for x in train_res]\n",
    "plt.figure()\n",
    "\n",
    "plt.plot(xs, ys, color = 'blue')\n",
    "plt.plot(xs, val, color = 'green')\n",
    "plt.show()"
   ]
  },
  {
   "cell_type": "code",
   "execution_count": 9,
   "metadata": {},
   "outputs": [
    {
     "name": "stdout",
     "output_type": "stream",
     "text": [
      "Net(\n",
      "  (fc1): Linear(in_features=7, out_features=20, bias=True)\n",
      "  (fc3): Linear(in_features=20, out_features=7, bias=True)\n",
      ")\n"
     ]
    }
   ],
   "source": [
    "#class way to define a model\n",
    "\n",
    "import torch.nn as nn\n",
    "\n",
    "class Net(nn.Module):\n",
    "    def __init__(self):\n",
    "        super(Net, self).__init__()\n",
    "        self.fc1 = nn.Linear(7, 20)\n",
    "        #self.fc2 = nn.Linear(20, 20)\n",
    "        self.fc3 = nn.Linear(20, 7)\n",
    "    def forward(self, x):\n",
    "        x = torch.sigmoid(self.fc1(x))\n",
    "        #x = F.relu(self.fc2(x))\n",
    "        x = self.fc3(x)\n",
    "        return torch.sigmoid(x)\n",
    "        #return x\n",
    "net = Net()\n",
    "print(net)\n",
    "learning_rate = 1e-1\n",
    "optimizer = torch.optim.SGD(net.parameters(), lr=learning_rate, momentum=0.9)\n",
    "lossMSE = torch.nn.MSELoss()"
   ]
  }
 ],
 "metadata": {
  "kernelspec": {
   "display_name": "Python 3",
   "language": "python",
   "name": "python3"
  },
  "language_info": {
   "codemirror_mode": {
    "name": "ipython",
    "version": 3
   },
   "file_extension": ".py",
   "mimetype": "text/x-python",
   "name": "python",
   "nbconvert_exporter": "python",
   "pygments_lexer": "ipython3",
   "version": "3.6.5"
  }
 },
 "nbformat": 4,
 "nbformat_minor": 2
}
