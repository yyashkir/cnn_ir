{
 "cells": [
  {
   "cell_type": "code",
   "execution_count": 1,
   "metadata": {},
   "outputs": [],
   "source": [
    "import numpy as np\n",
    "yield_data = np.genfromtxt ('../gbp_noheader.in', delimiter=\"\\t\", dtype=None, encoding=\"utf8\")"
   ]
  },
  {
   "cell_type": "code",
   "execution_count": 65,
   "metadata": {},
   "outputs": [],
   "source": [
    "tr = yield_data[:4000]\n",
    "train_x = tr[::2]\n",
    "train_y = tr[1::2]\n",
    "val = yield_data[4000:-1]\n",
    "val_x = val[::2]\n",
    "val_y = val[1::2]"
   ]
  },
  {
   "cell_type": "code",
   "execution_count": 66,
   "metadata": {},
   "outputs": [],
   "source": [
    "import torch\n",
    "\n",
    "dtype = torch.float\n",
    "device = torch.device(\"cpu\")"
   ]
  },
  {
   "cell_type": "code",
   "execution_count": 67,
   "metadata": {},
   "outputs": [],
   "source": [
    "N, D_in, H, D_out = 2000, 7, 14, 7"
   ]
  },
  {
   "cell_type": "code",
   "execution_count": 68,
   "metadata": {},
   "outputs": [],
   "source": [
    "x = torch.from_numpy(train_x).float()\n",
    "y = torch.from_numpy(train_y).float()\n",
    "\n",
    "xval = torch.from_numpy(val_x).float()\n",
    "yval = torch.from_numpy(val_y).float()"
   ]
  },
  {
   "cell_type": "code",
   "execution_count": 69,
   "metadata": {},
   "outputs": [],
   "source": [
    "modelf = torch.nn.Sequential(\n",
    "    torch.nn.Linear(7, 20),\n",
    "    torch.nn.Sigmoid(),\n",
    "    torch.nn.Linear(20, 7),\n",
    "    torch.nn.Sigmoid()\n",
    ")\n",
    "#print(modelf)\n",
    "learning_rate = 1e-2\n",
    "optimizer = torch.optim.SGD(modelf.parameters(), lr=learning_rate, momentum=0.9)\n",
    "lossMSE = torch.nn.MSELoss()"
   ]
  },
  {
   "cell_type": "code",
   "execution_count": 70,
   "metadata": {},
   "outputs": [],
   "source": [
    "train_res = []\n",
    "for t in range(500):\n",
    "    optimizer.zero_grad()\n",
    "    net_out = modelf(x)\n",
    "    loss = lossMSE(net_out, y)\n",
    "    loss.backward()\n",
    "    optimizer.step()\n",
    "    \n",
    "    #print(t, loss.data[0].item())\n",
    "    \n",
    "    val_pred = modelf(xval)\n",
    "    val_loss = lossMSE(val_pred, yval)\n",
    "    \n",
    "    train_res.append([t,loss.item(), val_loss.item()])\n",
    "\n"
   ]
  },
  {
   "cell_type": "code",
   "execution_count": 80,
   "metadata": {},
   "outputs": [
    {
     "data": {
      "image/png": "[encoded data removed]",
      "text/plain": [
       "<Figure size 432x288 with 1 Axes>"
      ]
     },
     "metadata": {},
     "output_type": "display_data"
    }
   ],
   "source": [
    "\n",
    "import matplotlib.pyplot as plt\n",
    "xs = [x[0] for x in train_res]\n",
    "ys = [x[1] for x in train_res]\n",
    "val = [x[2] for x in train_res]\n",
    "plt.figure()\n",
    "\n",
    "plt.plot(xs, ys, color = 'blue')\n",
    "plt.plot(xs, val, color = 'green')\n",
    "plt.show()"
   ]
  },
  {
   "cell_type": "code",
   "execution_count": 9,
   "metadata": {},
   "outputs": [
    {
     "name": "stdout",
     "output_type": "stream",
     "text": [
      "Net(\n",
      "  (fc1): Linear(in_features=7, out_features=20, bias=True)\n",
      "  (fc3): Linear(in_features=20, out_features=7, bias=True)\n",
      ")\n"
     ]
    }
   ],
   "source": [
    "#class way to define a model\n",
    "\n",
    "import torch.nn as nn\n",
    "\n",
    "class Net(nn.Module):\n",
    "    def __init__(self):\n",
    "        super(Net, self).__init__()\n",
    "        self.fc1 = nn.Linear(7, 20)\n",
    "        #self.fc2 = nn.Linear(20, 20)\n",
    "        self.fc3 = nn.Linear(20, 7)\n",
    "    def forward(self, x):\n",
    "        x = torch.sigmoid(self.fc1(x))\n",
    "        #x = F.relu(self.fc2(x))\n",
    "        x = self.fc3(x)\n",
    "        return torch.sigmoid(x)\n",
    "        #return x\n",
    "net = Net()\n",
    "print(net)\n",
    "learning_rate = 1e-1\n",
    "optimizer = torch.optim.SGD(net.parameters(), lr=learning_rate, momentum=0.9)\n",
    "lossMSE = torch.nn.MSELoss()"
   ]
  }
 ],
 "metadata": {
  "kernelspec": {
   "display_name": "Python 3",
   "language": "python",
   "name": "python3"
  },
  "language_info": {
   "codemirror_mode": {
    "name": "ipython",
    "version": 3
   },
   "file_extension": ".py",
   "mimetype": "text/x-python",
   "name": "python",
   "nbconvert_exporter": "python",
   "pygments_lexer": "ipython3",
   "version": "3.6.5"
  }
 },
 "nbformat": 4,
 "nbformat_minor": 2
}
